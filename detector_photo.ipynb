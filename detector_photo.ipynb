{
 "cells": [
  {
   "cell_type": "code",
   "execution_count": 1,
   "metadata": {},
   "outputs": [
    {
     "name": "stdout",
     "output_type": "stream",
     "text": [
      "Defaulting to user installation because normal site-packages is not writeable\n",
      "Requirement already satisfied: ultralytics in /Users/maxkucher/Library/Python/3.9/lib/python/site-packages (8.1.19)\n",
      "Requirement already satisfied: matplotlib>=3.3.0 in /Users/maxkucher/Library/Python/3.9/lib/python/site-packages (from ultralytics) (3.8.3)\n",
      "Requirement already satisfied: requests>=2.23.0 in /Users/maxkucher/Library/Python/3.9/lib/python/site-packages (from ultralytics) (2.31.0)\n",
      "Requirement already satisfied: thop>=0.1.1 in /Users/maxkucher/Library/Python/3.9/lib/python/site-packages (from ultralytics) (0.1.1.post2209072238)\n",
      "Requirement already satisfied: torch>=1.8.0 in /Users/maxkucher/Library/Python/3.9/lib/python/site-packages (from ultralytics) (2.2.1)\n",
      "Requirement already satisfied: pandas>=1.1.4 in /Users/maxkucher/Library/Python/3.9/lib/python/site-packages (from ultralytics) (2.2.0)\n",
      "Requirement already satisfied: psutil in /Users/maxkucher/Library/Python/3.9/lib/python/site-packages (from ultralytics) (5.9.8)\n",
      "Requirement already satisfied: torchvision>=0.9.0 in /Users/maxkucher/Library/Python/3.9/lib/python/site-packages (from ultralytics) (0.17.1)\n",
      "Requirement already satisfied: pillow>=7.1.2 in /Users/maxkucher/Library/Python/3.9/lib/python/site-packages (from ultralytics) (10.2.0)\n",
      "Requirement already satisfied: scipy>=1.4.1 in /Users/maxkucher/Library/Python/3.9/lib/python/site-packages (from ultralytics) (1.12.0)\n",
      "Requirement already satisfied: tqdm>=4.64.0 in /Users/maxkucher/Library/Python/3.9/lib/python/site-packages (from ultralytics) (4.66.2)\n",
      "Requirement already satisfied: pyyaml>=5.3.1 in /Users/maxkucher/Library/Python/3.9/lib/python/site-packages (from ultralytics) (6.0.1)\n",
      "Requirement already satisfied: py-cpuinfo in /Users/maxkucher/Library/Python/3.9/lib/python/site-packages (from ultralytics) (9.0.0)\n",
      "Requirement already satisfied: seaborn>=0.11.0 in /Users/maxkucher/Library/Python/3.9/lib/python/site-packages (from ultralytics) (0.13.2)\n",
      "Requirement already satisfied: opencv-python>=4.6.0 in /Users/maxkucher/Library/Python/3.9/lib/python/site-packages (from ultralytics) (4.9.0.80)\n",
      "Requirement already satisfied: cycler>=0.10 in /Users/maxkucher/Library/Python/3.9/lib/python/site-packages (from matplotlib>=3.3.0->ultralytics) (0.12.1)\n",
      "Requirement already satisfied: fonttools>=4.22.0 in /Users/maxkucher/Library/Python/3.9/lib/python/site-packages (from matplotlib>=3.3.0->ultralytics) (4.49.0)\n",
      "Requirement already satisfied: pyparsing>=2.3.1 in /Users/maxkucher/Library/Python/3.9/lib/python/site-packages (from matplotlib>=3.3.0->ultralytics) (3.1.1)\n",
      "Requirement already satisfied: importlib-resources>=3.2.0 in /Users/maxkucher/Library/Python/3.9/lib/python/site-packages (from matplotlib>=3.3.0->ultralytics) (6.1.1)\n",
      "Requirement already satisfied: kiwisolver>=1.3.1 in /Users/maxkucher/Library/Python/3.9/lib/python/site-packages (from matplotlib>=3.3.0->ultralytics) (1.4.5)\n",
      "Requirement already satisfied: numpy<2,>=1.21 in /Users/maxkucher/Library/Python/3.9/lib/python/site-packages (from matplotlib>=3.3.0->ultralytics) (1.26.4)\n",
      "Requirement already satisfied: python-dateutil>=2.7 in /Users/maxkucher/Library/Python/3.9/lib/python/site-packages (from matplotlib>=3.3.0->ultralytics) (2.8.2)\n",
      "Requirement already satisfied: contourpy>=1.0.1 in /Users/maxkucher/Library/Python/3.9/lib/python/site-packages (from matplotlib>=3.3.0->ultralytics) (1.2.0)\n",
      "Requirement already satisfied: packaging>=20.0 in /Users/maxkucher/Library/Python/3.9/lib/python/site-packages (from matplotlib>=3.3.0->ultralytics) (23.2)\n",
      "Requirement already satisfied: zipp>=3.1.0 in /Users/maxkucher/Library/Python/3.9/lib/python/site-packages (from importlib-resources>=3.2.0->matplotlib>=3.3.0->ultralytics) (3.17.0)\n",
      "Requirement already satisfied: pytz>=2020.1 in /Users/maxkucher/Library/Python/3.9/lib/python/site-packages (from pandas>=1.1.4->ultralytics) (2024.1)\n",
      "Requirement already satisfied: tzdata>=2022.7 in /Users/maxkucher/Library/Python/3.9/lib/python/site-packages (from pandas>=1.1.4->ultralytics) (2024.1)\n",
      "Requirement already satisfied: six>=1.5 in /Library/Developer/CommandLineTools/Library/Frameworks/Python3.framework/Versions/3.9/lib/python3.9/site-packages (from python-dateutil>=2.7->matplotlib>=3.3.0->ultralytics) (1.15.0)\n",
      "Requirement already satisfied: urllib3<3,>=1.21.1 in /Users/maxkucher/Library/Python/3.9/lib/python/site-packages (from requests>=2.23.0->ultralytics) (2.2.1)\n",
      "Requirement already satisfied: charset-normalizer<4,>=2 in /Users/maxkucher/Library/Python/3.9/lib/python/site-packages (from requests>=2.23.0->ultralytics) (3.3.2)\n",
      "Requirement already satisfied: idna<4,>=2.5 in /Users/maxkucher/Library/Python/3.9/lib/python/site-packages (from requests>=2.23.0->ultralytics) (3.6)\n",
      "Requirement already satisfied: certifi>=2017.4.17 in /Users/maxkucher/Library/Python/3.9/lib/python/site-packages (from requests>=2.23.0->ultralytics) (2024.2.2)\n",
      "Requirement already satisfied: filelock in /Users/maxkucher/Library/Python/3.9/lib/python/site-packages (from torch>=1.8.0->ultralytics) (3.13.1)\n",
      "Requirement already satisfied: sympy in /Users/maxkucher/Library/Python/3.9/lib/python/site-packages (from torch>=1.8.0->ultralytics) (1.12)\n",
      "Requirement already satisfied: typing-extensions>=4.8.0 in /Users/maxkucher/Library/Python/3.9/lib/python/site-packages (from torch>=1.8.0->ultralytics) (4.9.0)\n",
      "Requirement already satisfied: fsspec in /Users/maxkucher/Library/Python/3.9/lib/python/site-packages (from torch>=1.8.0->ultralytics) (2024.2.0)\n",
      "Requirement already satisfied: jinja2 in /Users/maxkucher/Library/Python/3.9/lib/python/site-packages (from torch>=1.8.0->ultralytics) (3.1.3)\n",
      "Requirement already satisfied: networkx in /Users/maxkucher/Library/Python/3.9/lib/python/site-packages (from torch>=1.8.0->ultralytics) (3.2.1)\n",
      "Requirement already satisfied: MarkupSafe>=2.0 in /Users/maxkucher/Library/Python/3.9/lib/python/site-packages (from jinja2->torch>=1.8.0->ultralytics) (2.1.5)\n",
      "Requirement already satisfied: mpmath>=0.19 in /Users/maxkucher/Library/Python/3.9/lib/python/site-packages (from sympy->torch>=1.8.0->ultralytics) (1.3.0)\n",
      "\u001b[33mWARNING: You are using pip version 21.2.4; however, version 24.0 is available.\n",
      "You should consider upgrading via the '/Library/Developer/CommandLineTools/usr/bin/python3 -m pip install --upgrade pip' command.\u001b[0m\n",
      "Note: you may need to restart the kernel to use updated packages.\n"
     ]
    },
    {
     "name": "stderr",
     "output_type": "stream",
     "text": [
      "/Users/maxkucher/Library/Python/3.9/lib/python/site-packages/urllib3/__init__.py:35: NotOpenSSLWarning: urllib3 v2 only supports OpenSSL 1.1.1+, currently the 'ssl' module is compiled with 'LibreSSL 2.8.3'. See: https://github.com/urllib3/urllib3/issues/3020\n",
      "  warnings.warn(\n"
     ]
    }
   ],
   "source": [
    "%pip install ultralytics\n",
    "import os\n",
    "from ultralytics import YOLO\n",
    "import cv2"
   ]
  },
  {
   "cell_type": "code",
   "execution_count": 12,
   "metadata": {},
   "outputs": [
    {
     "name": "stdout",
     "output_type": "stream",
     "text": [
      "\n",
      "0: 448x640 1 FPV, 139.1ms\n",
      "Speed: 4.7ms preprocess, 139.1ms inference, 2.1ms postprocess per image at shape (1, 3, 448, 640)\n"
     ]
    },
    {
     "data": {
      "text/plain": [
       "True"
      ]
     },
     "execution_count": 12,
     "metadata": {},
     "output_type": "execute_result"
    }
   ],
   "source": [
    "import os\n",
    "import cv2\n",
    "from ultralytics import YOLO\n",
    "\n",
    "# path to image\n",
    "image_path = \"path/to/image/2.jpg\"\n",
    "# path to saved image\n",
    "output_image_path = \"{}_out.jpg\".format(os.path.splitext(image_path)[0])\n",
    "\n",
    "# image download\n",
    "image = cv2.imread(image_path)\n",
    "H, W, _ = image.shape\n",
    "\n",
    "# path to own pre-trained model\n",
    "model_path = \"path/to/model/last.pt\"\n",
    "# model download\n",
    "model = YOLO(model_path)\n",
    "\n",
    "# threshold initialization\n",
    "threshold = 0.5\n",
    "\n",
    "# apply own model to image and choose first detected object (with index 0) to detect it \n",
    "results = model(image)[0]"
   ]
  },
  {
   "cell_type": "code",
   "execution_count": null,
   "metadata": {},
   "outputs": [],
   "source": [
    "for result in results.boxes.data.tolist():\n",
    "    # initialize:\n",
    "        #  - coordinates of the upper left corner (x1, y1)\n",
    "        #  - coordinates of the lower right corner (x2, y2)\n",
    "        #  - confidence assessment (score)\n",
    "        #  - class identificator (class_id)\n",
    "        # and put them all into result object \n",
    "    x1, y1, x2, y2, score, class_id = result\n",
    "    if score > threshold:\n",
    "        cv2.rectangle(image, (int(x1), int(y1)), (int(x2), int(y2)), (0, 255, 0), 4)\n",
    "        cv2.putText(image, model.names[int(class_id)].upper(), (int(x1), int(y1 - 10)),\n",
    "                    cv2.FONT_HERSHEY_SIMPLEX, 1.3, (0, 255, 0), 3, cv2.LINE_AA)\n",
    "\n",
    "\n",
    "\n",
    "# save results\n",
    "cv2.imwrite(output_image_path, image)"
   ]
  },
  {
   "cell_type": "markdown",
   "metadata": {},
   "source": []
  },
  {
   "cell_type": "code",
   "execution_count": null,
   "metadata": {},
   "outputs": [],
   "source": []
  }
 ],
 "metadata": {
  "kernelspec": {
   "display_name": "Python 3",
   "language": "python",
   "name": "python3"
  },
  "language_info": {
   "codemirror_mode": {
    "name": "ipython",
    "version": 3
   },
   "file_extension": ".py",
   "mimetype": "text/x-python",
   "name": "python",
   "nbconvert_exporter": "python",
   "pygments_lexer": "ipython3",
   "version": "3.9.6"
  }
 },
 "nbformat": 4,
 "nbformat_minor": 2
}
